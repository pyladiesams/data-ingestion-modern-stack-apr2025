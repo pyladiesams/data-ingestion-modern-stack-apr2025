{
  "nbformat": 4,
  "nbformat_minor": 0,
  "metadata": {
    "colab": {
      "provenance": []
    },
    "kernelspec": {
      "name": "python3",
      "display_name": "Python 3"
    },
    "language_info": {
      "name": "python"
    }
  },
  "cells": [
    {
      "cell_type": "markdown",
      "source": [
        "## Install dependencies"
      ],
      "metadata": {
        "id": "j2eMiU8g6V5t"
      }
    },
    {
      "cell_type": "code",
      "execution_count": null,
      "metadata": {
        "id": "QOT7gxai6MdS"
      },
      "outputs": [],
      "source": [
        "%%capture\n",
        "!pip install \"dlt[duckdb]\""
      ]
    },
    {
      "cell_type": "markdown",
      "source": [
        "## 🧪 Exercise 1: Extract Paginated Data from the GitHub API"
      ],
      "metadata": {
        "id": "9UDvBXA566Ow"
      }
    },
    {
      "cell_type": "code",
      "source": [
        "import dlt\n",
        "from dlt.sources.helpers.rest_client import RESTClient\n",
        "from dlt.sources.helpers.rest_client.paginators import HeaderLinkPaginator\n",
        "\n",
        "\n",
        "organization = \"dlt-hub\"\n",
        "\n",
        "def paginated_getter():\n",
        "    client = RESTClient(\n",
        "        base_url=\"https://api.github.com\",\n",
        "        paginator=HeaderLinkPaginator()\n",
        "    )\n",
        "\n",
        "    for page in client.paginate(f\"/orgs/{organization}/repos\"):\n",
        "        yield page\n",
        "\n",
        "\n",
        "for page_data in paginated_getter():\n",
        "    print(page_data)\n",
        "    break"
      ],
      "metadata": {
        "id": "C2ckqAo061qG"
      },
      "execution_count": null,
      "outputs": []
    },
    {
      "cell_type": "markdown",
      "source": [
        "## 🧪 Exercise 2: Loading GitHub issues"
      ],
      "metadata": {
        "id": "n7kw8xq27dmp"
      }
    },
    {
      "cell_type": "code",
      "source": [
        "import dlt\n",
        "from dlt.sources.helpers.rest_client import RESTClient\n",
        "\n",
        "\n",
        "organization = \"dlt-hub\"\n",
        "\n",
        "\n",
        "@dlt.resource(name=\"issues\")\n",
        "def get_issues():\n",
        "    client = RESTClient(\n",
        "        base_url=\"https://api.github.com\",\n",
        "    )\n",
        "\n",
        "    for page in client.paginate(f\"repos/{organization}/dlt/issues\"):\n",
        "        yield page\n",
        "\n",
        "pipeline = dlt.pipeline(pipeline_name=\"issuess_pipeline\", destination=\"duckdb\")\n",
        "info = pipeline.run(get_issues)\n",
        "print(info)"
      ],
      "metadata": {
        "id": "nFuzQ0Wz7g4Z"
      },
      "execution_count": null,
      "outputs": []
    },
    {
      "cell_type": "markdown",
      "source": [
        "## 🧪 Exercise 3: Add authentification to GitHub issues"
      ],
      "metadata": {
        "id": "_zQl36JR7kTE"
      }
    },
    {
      "cell_type": "code",
      "source": [
        "import os\n",
        "import dlt\n",
        "from google.colab import userdata\n",
        "from dlt.sources.helpers.rest_client import RESTClient\n",
        "from dlt.sources.helpers.rest_client.auth import BearerTokenAuth\n",
        "\n",
        "access_token = userdata.get('SECRET_KEY')\n",
        "\n",
        "organization = \"dlt-hub\"\n",
        "\n",
        "\n",
        "@dlt.resource(name=\"issues\")\n",
        "def get_issues():\n",
        "    client = RESTClient(\n",
        "        base_url=\"https://api.github.com\",\n",
        "        auth=BearerTokenAuth(token=access_token)\n",
        "    )\n",
        "\n",
        "    for page in client.paginate(f\"repos/{organization}/dlt/issues\"):\n",
        "        yield page\n",
        "\n",
        "pipeline = dlt.pipeline(pipeline_name=\"issues_pipeline\", destination=\"duckdb\")\n",
        "info = pipeline.run(get_issues.add_limit(2))\n",
        "print(info)"
      ],
      "metadata": {
        "id": "68Hcqf8R7ip0"
      },
      "execution_count": null,
      "outputs": []
    },
    {
      "cell_type": "markdown",
      "source": [
        "## 🧪 Exercise 4: Load GitHub data into DuckDB with incremental loading"
      ],
      "metadata": {
        "id": "sVnlzp087_-I"
      }
    },
    {
      "cell_type": "code",
      "source": [
        "import os\n",
        "import dlt\n",
        "from google.colab import userdata\n",
        "from dlt.sources.helpers.rest_client import RESTClient\n",
        "from dlt.sources.helpers.rest_client.auth import BearerTokenAuth\n",
        "\n",
        "access_token = userdata.get('SECRET_KEY')\n",
        "\n",
        "organization = \"dlt-hub\"\n",
        "\n",
        "\n",
        "@dlt.resource(name=\"issues\", write_disposition=\"merge\", primary_key=\"id\")\n",
        "def get_issues(updated=dlt.sources.incremental(\"updated_at\", initial_value=\"2025-02-28T00:00:00Z\")):\n",
        "    client = RESTClient(\n",
        "        base_url=\"https://api.github.com\",\n",
        "        auth=BearerTokenAuth(token=access_token)\n",
        "    )\n",
        "\n",
        "    for page in client.paginate(f\"repos/{organization}/dlt/issues\", params={\"updated_at\": updated.last_value}):\n",
        "        yield page\n",
        "\n",
        "pipeline = dlt.pipeline(pipeline_name=\"issues_pipeline_incremental\", destination=\"duckdb\")\n",
        "info = pipeline.run(get_issues)\n",
        "print(info)"
      ],
      "metadata": {
        "id": "MBzqKMVe7qyM"
      },
      "execution_count": null,
      "outputs": []
    },
    {
      "cell_type": "markdown",
      "source": [
        "### Second run"
      ],
      "metadata": {
        "id": "_ckmXH99_lSk"
      }
    },
    {
      "cell_type": "code",
      "source": [
        "info = pipeline.run(get_issues)\n",
        "print(info)"
      ],
      "metadata": {
        "id": "_7Je-CGy_naq"
      },
      "execution_count": null,
      "outputs": []
    },
    {
      "cell_type": "markdown",
      "source": [
        "### Min `updated_at`"
      ],
      "metadata": {
        "id": "y-p2fTTr_qHr"
      }
    },
    {
      "cell_type": "code",
      "source": [
        "with pipeline.sql_client() as client:\n",
        "    res = client.execute_sql(\n",
        "            \"\"\"\n",
        "            SELECT\n",
        "            MIN(updated_at)\n",
        "            FROM issues;\n",
        "            \"\"\"\n",
        "        )\n",
        "    print(res)"
      ],
      "metadata": {
        "id": "4KEzAwJa-xmT"
      },
      "execution_count": null,
      "outputs": []
    },
    {
      "cell_type": "markdown",
      "source": [
        "### Question: How many issues were created/updated in the last 2 months?"
      ],
      "metadata": {
        "id": "BDjlOHGq-ZCT"
      }
    },
    {
      "cell_type": "code",
      "source": [
        "issues_table = pipeline.dataset().issues.df()\n",
        "len(issues_table)"
      ],
      "metadata": {
        "id": "mU6evmhN-AEu"
      },
      "execution_count": null,
      "outputs": []
    },
    {
      "cell_type": "markdown",
      "source": [
        "## 🧪 Exercise 5: Update GitHub source to declarative style"
      ],
      "metadata": {
        "id": "fKaQEl_mCJXT"
      }
    },
    {
      "cell_type": "code",
      "source": [
        "import dlt\n",
        "from google.colab import userdata\n",
        "from dlt.sources.rest_api import RESTAPIConfig, rest_api_resources\n",
        "\n",
        "access_token = userdata.get('SECRET_KEY')\n",
        "\n",
        "\n",
        "@dlt.source\n",
        "def github_source(github_token=dlt.secrets.value):\n",
        "    config: RESTAPIConfig = {\n",
        "        \"client\": {\n",
        "            \"base_url\": \"https://api.github.com/repos/dlt-hub/dlt/\",\n",
        "            \"auth\": {\n",
        "                \"token\": github_token,\n",
        "            },\n",
        "        },\n",
        "        \"resources\": [\n",
        "            {\n",
        "                \"name\": \"issues\",\n",
        "                \"endpoint\": {\n",
        "                    \"path\": \"issues\",\n",
        "                    \"params\": {\n",
        "                        \"sort\": \"updated\",\n",
        "                        \"direction\": \"desc\",\n",
        "                        \"state\": \"open\",\n",
        "                        \"since\": {\n",
        "                            \"type\": \"incremental\",\n",
        "                            \"cursor_path\": \"updated_at\",\n",
        "                            \"initial_value\": \"2024-01-25T11:21:28Z\",\n",
        "                        },\n",
        "                    },\n",
        "                },\n",
        "            },\n",
        "            \"stargazers\",\n",
        "            \"commits\",\n",
        "\n",
        "        ],\n",
        "    }\n",
        "\n",
        "    yield from rest_api_resources(config)\n",
        "\n",
        "\n",
        "pipeline = dlt.pipeline(\n",
        "    pipeline_name=\"rest_api_github\",\n",
        "    destination=\"duckdb\",\n",
        "    dataset_name=\"rest_api_data\",\n",
        ")\n",
        "\n",
        "load_info = pipeline.run(github_source(access_token).add_limit(2))\n",
        "print(load_info)"
      ],
      "metadata": {
        "id": "TNzlObE3-qLS"
      },
      "execution_count": null,
      "outputs": []
    },
    {
      "cell_type": "markdown",
      "source": [
        "### Explore data"
      ],
      "metadata": {
        "id": "5Qlw28PbENKm"
      }
    },
    {
      "cell_type": "code",
      "source": [
        "import duckdb\n",
        "from google.colab import data_table\n",
        "\n",
        "data_table.enable_dataframe_formatter()\n",
        "\n",
        "\n",
        "with duckdb.connect(f\"{pipeline.pipeline_name}.duckdb\") as conn:\n",
        "  # Set search path to the dataset\n",
        "  conn.sql(f\"SET search_path = '{pipeline.dataset_name}'\")\n",
        "\n",
        "  # Describe the dataset\n",
        "  df = conn.sql(\"DESCRIBE\").df()\n",
        "\n",
        "df"
      ],
      "metadata": {
        "id": "gknwPvkyCu2m"
      },
      "execution_count": null,
      "outputs": []
    },
    {
      "cell_type": "code",
      "source": [],
      "metadata": {
        "id": "5lFbXDvgEW42"
      },
      "execution_count": null,
      "outputs": []
    }
  ]
}